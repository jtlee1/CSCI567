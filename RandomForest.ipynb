{
  "nbformat": 4,
  "nbformat_minor": 0,
  "metadata": {
    "colab": {
      "provenance": []
    },
    "kernelspec": {
      "name": "python3",
      "display_name": "Python 3"
    },
    "language_info": {
      "name": "python"
    }
  },
  "cells": [
    {
      "cell_type": "code",
      "execution_count": null,
      "metadata": {
        "colab": {
          "base_uri": "https://localhost:8080/"
        },
        "id": "gEfSfzvgWERK",
        "outputId": "9d051d4f-577d-4417-e7a9-3bca7dfc9c07"
      },
      "outputs": [
        {
          "output_type": "execute_result",
          "data": {
            "text/plain": [
              "[]"
            ]
          },
          "metadata": {},
          "execution_count": 9
        }
      ],
      "source": [
        "import pandas as pd\n",
        "from sklearn.ensemble import RandomForestClassifier\n",
        "from sklearn.metrics import mean_squared_error\n",
        "from sklearn.model_selection import train_test_split\n",
        "\n",
        "# 导入数据集\n",
        "train_df = pd.read_csv(\"/content/sample_data/train_values.csv\")\n",
        "train_labels_df = pd.read_csv(\"/content/sample_data/train_labels.csv\")\n",
        "test_df = pd.read_csv(\"/content/sample_data/test_values.csv\")\n",
        "\n",
        "# 将训练数据集和标签数据集进行合并\n",
        "train_df = train_df.merge(train_labels_df, on=\"building_id\")\n",
        "\n",
        "# 将分类变量进行编码\n",
        "train_df = pd.get_dummies(train_df, columns=['land_surface_condition', 'foundation_type', 'roof_type', \n",
        "                                             'ground_floor_type', 'other_floor_type', 'position', \n",
        "                                             'plan_configuration', 'legal_ownership_status'])\n",
        "\n",
        "test_df = pd.get_dummies(test_df, columns=['land_surface_condition', 'foundation_type', 'roof_type', \n",
        "                                           'ground_floor_type', 'other_floor_type', 'position', \n",
        "                                           'plan_configuration', 'legal_ownership_status'])\n",
        "\n",
        "# 将训练数据集分为训练集和验证集\n",
        "X_train, X_valid, y_train, y_valid = train_test_split(train_df.drop(['damage_grade', 'building_id'], axis=1), \n",
        "                                                      train_df['damage_grade'], \n",
        "                                                      test_size=0.2, \n",
        "                                                      random_state=42)\n",
        "train_df.select_dtypes(include=['object']).columns.tolist()\n"
      ]
    },
    {
      "cell_type": "code",
      "source": [
        "\n",
        "# 训练随机森林模型\n",
        "rf_model = RandomForestClassifier(n_estimators=500, random_state=42)\n",
        "rf_model.fit(X_train, y_train)\n",
        "\n",
        "# 预测验证集的结果并计算RMSE值\n",
        "valid_preds = rf_model.predict(X_valid)\n",
        "rmse = mean_squared_error(y_valid, valid_preds, squared=False)\n",
        "\n",
        "print(\"Validation RMSE: \", rmse)\n",
        "\n",
        "# 使用训练好的模型来预测测试集\n",
        "test_preds = rf_model.predict(test_df.drop(['building_id'], axis=1))\n",
        "\n",
        "# 将预测结果保存到CSV文件中\n",
        "submission_df = pd.DataFrame({'building_id': test_df['building_id'], 'damage_grade': test_preds})\n",
        "submission_df.to_csv('submission.csv', index=False)\n",
        "\n"
      ],
      "metadata": {
        "colab": {
          "base_uri": "https://localhost:8080/"
        },
        "id": "K8c54b71YnDU",
        "outputId": "cc5b1f10-f124-4232-98c3-51ef14ff4315"
      },
      "execution_count": null,
      "outputs": [
        {
          "output_type": "stream",
          "name": "stdout",
          "text": [
            "Validation RMSE:  0.5456994042824602\n"
          ]
        }
      ]
    }
  ]
}